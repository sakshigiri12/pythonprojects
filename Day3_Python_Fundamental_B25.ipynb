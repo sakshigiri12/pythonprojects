{
 "cells": [
  {
   "cell_type": "code",
   "execution_count": 3,
   "metadata": {},
   "outputs": [
    {
     "name": "stdout",
     "output_type": "stream",
     "text": [
      "SAKSHIGIRI\n"
     ]
    }
   ],
   "source": [
    "first_name=\"sakshi\" ------>#Introduction to 'F'string\n",
    "last_name=\"giri\"\n",
    "full_name=f\"{first_name}{last_name}\"\n",
    "print(full_name.upper())"
   ]
  },
  {
   "cell_type": "code",
   "execution_count": 6,
   "metadata": {},
   "outputs": [
    {
     "name": "stdout",
     "output_type": "stream",
     "text": [
      "fav_language:\n",
      "python\n",
      "java\n",
      "swift\n",
      "c++\n"
     ]
    }
   ],
   "source": [
    "print('fav_language:\\npython\\njava\\nswift\\nc++')------>#Adding whitespaces to strings"
   ]
  },
  {
   "cell_type": "code",
   "execution_count": null,
   "metadata": {},
   "outputs": [],
   "source": []
  }
 ],
 "metadata": {
  "kernelspec": {
   "display_name": "Python 3",
   "language": "python",
   "name": "python3"
  },
  "language_info": {
   "codemirror_mode": {
    "name": "ipython",
    "version": 3
   },
   "file_extension": ".py",
   "mimetype": "text/x-python",
   "name": "python",
   "nbconvert_exporter": "python",
   "pygments_lexer": "ipython3",
   "version": "3.7.6"
  }
 },
 "nbformat": 4,
 "nbformat_minor": 4
}
