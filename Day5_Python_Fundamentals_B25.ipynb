{
 "cells": [
  {
   "cell_type": "code",
   "execution_count": 11,
   "metadata": {},
   "outputs": [
    {
     "name": "stdout",
     "output_type": "stream",
     "text": [
      "keep up the good work,riya\n",
      "i will be looking forward to receive your file today,riya.\n",
      "\n",
      "thank you\n",
      "keep up the good work,priya\n",
      "i will be looking forward to receive your file today,priya.\n",
      "\n",
      "thank you\n",
      "keep up the good work,kartik\n",
      "i will be looking forward to receive your file today,kartik.\n",
      "\n",
      "thank you\n",
      "keep up the good work,ved\n",
      "i will be looking forward to receive your file today,ved.\n",
      "\n",
      "thank you\n",
      "keep up the good work,manali\n",
      "i will be looking forward to receive your file today,manali.\n",
      "\n",
      "thank you\n"
     ]
    }
   ],
   "source": [
    "students=['riya','priya','kartik','ved','manali']\n",
    "for x in students:--->#For loop\n",
    "    print(f\"keep up the good work,{x}\")\n",
    "    print(f\"i will be looking forward to receive your file today,{x}.\\n\")\n",
    "    \n",
    "    \n",
    "      "
   ]
  },
  {
   "cell_type": "code",
   "execution_count": null,
   "metadata": {},
   "outputs": [],
   "source": []
  }
 ],
 "metadata": {
  "kernelspec": {
   "display_name": "Python 3",
   "language": "python",
   "name": "python3"
  },
  "language_info": {
   "codemirror_mode": {
    "name": "ipython",
    "version": 3
   },
   "file_extension": ".py",
   "mimetype": "text/x-python",
   "name": "python",
   "nbconvert_exporter": "python",
   "pygments_lexer": "ipython3",
   "version": "3.7.6"
  }
 },
 "nbformat": 4,
 "nbformat_minor": 4
}
