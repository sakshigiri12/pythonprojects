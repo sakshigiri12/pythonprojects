{
 "cells": [
  {
   "cell_type": "code",
   "execution_count": 5,
   "metadata": {},
   "outputs": [
    {
     "name": "stdout",
     "output_type": "stream",
     "text": [
      "['computer science', 'e&tc', 'mechanical', 'it']\n"
     ]
    }
   ],
   "source": [
    "branch=['computer science','e&tc','mechanical','it']#Defination of list\n",
    "print(branch)"
   ]
  },
  {
   "cell_type": "code",
   "execution_count": 9,
   "metadata": {},
   "outputs": [
    {
     "name": "stdout",
     "output_type": "stream",
     "text": [
      "['sakshi', 'riya', 'mayuri', 'prerna', 'kartik', 'ravi']\n"
     ]
    }
   ],
   "source": [
    "students=['sakshi','riya','mayuri','prerna','kartik']\n",
    "students.append('ravi')#Append\n",
    "print(students)"
   ]
  },
  {
   "cell_type": "code",
   "execution_count": 10,
   "metadata": {},
   "outputs": [
    {
     "name": "stdout",
     "output_type": "stream",
     "text": [
      "['red', 'black', 'purple', 'green', 'blue']\n"
     ]
    }
   ],
   "source": [
    "colors=['red','black','green','blue']\n",
    "colors.insert(2,'purple')#Adding elements between the list\n",
    "print(colors)"
   ]
  },
  {
   "cell_type": "code",
   "execution_count": 12,
   "metadata": {},
   "outputs": [
    {
     "name": "stdout",
     "output_type": "stream",
     "text": [
      "['red', 'black', 'purple', 'pink']\n"
     ]
    }
   ],
   "source": [
    "colors=['red','black','purple','green']\n",
    "colors[3]='pink'#Modifying the existing elements\n",
    "print(colors)\n"
   ]
  },
  {
   "cell_type": "code",
   "execution_count": 14,
   "metadata": {},
   "outputs": [
    {
     "name": "stdout",
     "output_type": "stream",
     "text": [
      "['red', 'black', 'green']\n"
     ]
    }
   ],
   "source": [
    "colors=['red','black','purple','green']\n",
    "del colors[2]#Delete the elements\n",
    "print(colors)"
   ]
  },
  {
   "cell_type": "code",
   "execution_count": null,
   "metadata": {},
   "outputs": [],
   "source": []
  }
 ],
 "metadata": {
  "kernelspec": {
   "display_name": "Python 3",
   "language": "python",
   "name": "python3"
  },
  "language_info": {
   "codemirror_mode": {
    "name": "ipython",
    "version": 3
   },
   "file_extension": ".py",
   "mimetype": "text/x-python",
   "name": "python",
   "nbconvert_exporter": "python",
   "pygments_lexer": "ipython3",
   "version": "3.7.6"
  }
 },
 "nbformat": 4,
 "nbformat_minor": 4
}
